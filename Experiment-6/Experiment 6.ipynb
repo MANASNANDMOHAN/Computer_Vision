{
 "cells": [
  {
   "cell_type": "code",
   "execution_count": null,
   "id": "3930e6e4",
   "metadata": {},
   "outputs": [],
   "source": [
    "#Image Restoration"
   ]
  },
  {
   "cell_type": "code",
   "execution_count": 1,
   "id": "822e0100",
   "metadata": {},
   "outputs": [
    {
     "data": {
      "text/plain": [
       "-1"
      ]
     },
     "execution_count": 1,
     "metadata": {},
     "output_type": "execute_result"
    }
   ],
   "source": [
    "import cv2\n",
    "img=cv2.imread('img.jpg')\n",
    "mask=cv2.imread('massk.png',0)\n",
    "dst=cv2.inpaint(img,mask, 50, cv2. INPAINT_NS)\n",
    "cv2.imwrite('resorted.png',dst)\n",
    "cv2.imshow('Restorted Image',dst)\n",
    "cv2.waitKey(0)"
   ]
  },
  {
   "cell_type": "code",
   "execution_count": null,
   "id": "1cebebef",
   "metadata": {},
   "outputs": [],
   "source": []
  }
 ],
 "metadata": {
  "kernelspec": {
   "display_name": "Python 3 (ipykernel)",
   "language": "python",
   "name": "python3"
  },
  "language_info": {
   "codemirror_mode": {
    "name": "ipython",
    "version": 3
   },
   "file_extension": ".py",
   "mimetype": "text/x-python",
   "name": "python",
   "nbconvert_exporter": "python",
   "pygments_lexer": "ipython3",
   "version": "3.9.12"
  }
 },
 "nbformat": 4,
 "nbformat_minor": 5
}
