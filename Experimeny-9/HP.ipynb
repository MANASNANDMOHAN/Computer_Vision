{
 "cells": [
  {
   "cell_type": "code",
   "execution_count": 1,
   "id": "3280fcde",
   "metadata": {},
   "outputs": [
    {
     "name": "stdout",
     "output_type": "stream",
     "text": [
      "2\n",
      "[[246   0 249 ... 248 248 248]\n",
      " [247 249 250 ... 245 245 245]\n",
      " [  0 250 251 ... 243 243 255]\n",
      " ...\n",
      " [233 233 232 ... 156 150 165]\n",
      " [255 233 232 ... 157 149 165]\n",
      " [233 233 232 ... 161 150 162]]\n"
     ]
    }
   ],
   "source": [
    "import cv2\n",
    "import numpy as np\n",
    "img=cv2.imread('ns.png',0)\n",
    "print(img.ndim)\n",
    "print(img)"
   ]
  },
  {
   "cell_type": "code",
   "execution_count": 2,
   "id": "d808ab42",
   "metadata": {},
   "outputs": [],
   "source": [
    "m,n =img.shape"
   ]
  },
  {
   "cell_type": "code",
   "execution_count": 3,
   "id": "3b41495a",
   "metadata": {},
   "outputs": [
    {
     "name": "stdout",
     "output_type": "stream",
     "text": [
      "[[-0.11111111 -0.11111111 -0.11111111]\n",
      " [-0.11111111  0.88888889 -0.11111111]\n",
      " [-0.11111111 -0.11111111 -0.11111111]]\n",
      "2\n"
     ]
    }
   ],
   "source": [
    "mask=np.array([[-1/9,-1/9,-1/9],[-1/9,8/9,-1/9],[-1/9,-1/9,-1/9]])\n",
    "print(mask)\n",
    "print(mask.ndim)"
   ]
  },
  {
   "cell_type": "code",
   "execution_count": 7,
   "id": "c4c114c9",
   "metadata": {},
   "outputs": [],
   "source": [
    "img_new = np.ones([m, n])\n",
    " \n",
    "\n",
    "for i in range(1, m-1):\n",
    "    for j in range(1, n-1):\n",
    "        temp = img[i-1, j-1]*mask[0, 0]+img[i-1, j]*mask[0, 1]+img[i-1, j + 1]*mask[0, 2]+img[i, j-1]*mask[1, 0]+ img[i, j]*mask[1, 1]+img[i, j + 1]*mask[1, 2]+img[i + 1, j-1]*mask[2, 0]+img[i + 1, j]*mask[2, 1]+img[i + 1, j + 1]*mask[2, 2]\n",
    "        img_new[i, j]= temp"
   ]
  },
  {
   "cell_type": "code",
   "execution_count": 5,
   "id": "c79c4f40",
   "metadata": {},
   "outputs": [
    {
     "name": "stdout",
     "output_type": "stream",
     "text": [
      "[[ 0.00000000e+00  0.00000000e+00  0.00000000e+00 ...  0.00000000e+00\n",
      "   0.00000000e+00  0.00000000e+00]\n",
      " [ 0.00000000e+00  5.54444444e+01  2.80000000e+01 ... -1.11111111e+00\n",
      "  -1.66666667e+00  0.00000000e+00]\n",
      " [ 0.00000000e+00  5.63333333e+01  2.94444444e+01 ... -2.77777778e+00\n",
      "  -2.55555556e+00  0.00000000e+00]\n",
      " ...\n",
      " [ 0.00000000e+00 -2.11111111e+00  1.77635684e-14 ... -2.22222222e+00\n",
      "  -8.11111111e+00  0.00000000e+00]\n",
      " [ 0.00000000e+00 -2.11111111e+00  1.77635684e-14 ... -1.44444444e+00\n",
      "  -8.22222222e+00  0.00000000e+00]\n",
      " [ 0.00000000e+00  0.00000000e+00  0.00000000e+00 ...  0.00000000e+00\n",
      "   0.00000000e+00  0.00000000e+00]]\n"
     ]
    }
   ],
   "source": [
    "print(img_new)"
   ]
  },
  {
   "cell_type": "code",
   "execution_count": 8,
   "id": "2d4e13cb",
   "metadata": {},
   "outputs": [
    {
     "data": {
      "text/plain": [
       "True"
      ]
     },
     "execution_count": 8,
     "metadata": {},
     "output_type": "execute_result"
    }
   ],
   "source": [
    "img_new= img_new.astype(np.uint8)\n",
    "cv2.imwrite( 'HP.png',img_new)"
   ]
  },
  {
   "cell_type": "code",
   "execution_count": null,
   "id": "d8b34d14",
   "metadata": {},
   "outputs": [],
   "source": []
  }
 ],
 "metadata": {
  "kernelspec": {
   "display_name": "Python 3 (ipykernel)",
   "language": "python",
   "name": "python3"
  },
  "language_info": {
   "codemirror_mode": {
    "name": "ipython",
    "version": 3
   },
   "file_extension": ".py",
   "mimetype": "text/x-python",
   "name": "python",
   "nbconvert_exporter": "python",
   "pygments_lexer": "ipython3",
   "version": "3.9.12"
  }
 },
 "nbformat": 4,
 "nbformat_minor": 5
}
