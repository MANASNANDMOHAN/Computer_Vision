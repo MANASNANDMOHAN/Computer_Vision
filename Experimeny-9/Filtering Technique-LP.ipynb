{
 "cells": [
  {
   "cell_type": "code",
   "execution_count": 1,
   "id": "f3ad3cbe",
   "metadata": {},
   "outputs": [
    {
     "ename": "SyntaxError",
     "evalue": "unmatched ')' (2156058838.py, line 2)",
     "output_type": "error",
     "traceback": [
      "\u001b[1;36m  Input \u001b[1;32mIn [1]\u001b[1;36m\u001b[0m\n\u001b[1;33m    A)Low pass filtering\u001b[0m\n\u001b[1;37m     ^\u001b[0m\n\u001b[1;31mSyntaxError\u001b[0m\u001b[1;31m:\u001b[0m unmatched ')'\n"
     ]
    }
   ],
   "source": [
    "#WAP in python to implement the following Image filtering technique\n",
    "A)Low pass filtering\n",
    "B)High pass filtering\n",
    "c)Median  filtering\n",
    "d)Mean filtering"
   ]
  },
  {
   "cell_type": "code",
   "execution_count": 5,
   "id": "d0052082",
   "metadata": {},
   "outputs": [
    {
     "name": "stdout",
     "output_type": "stream",
     "text": [
      "2\n",
      "[[246   0 249 ... 248 248 248]\n",
      " [247 249 250 ... 245 245 245]\n",
      " [  0 250 251 ... 243 243 255]\n",
      " ...\n",
      " [233 233 232 ... 156 150 165]\n",
      " [255 233 232 ... 157 149 165]\n",
      " [233 233 232 ... 161 150 162]]\n"
     ]
    }
   ],
   "source": [
    "#low pass spatial domain filtering\n",
    "#to observe the blurring effect\n",
    "import cv2\n",
    "import numpy as np\n",
    "img=cv2.imread('ns.png',0)\n",
    "print(img.ndim)\n",
    "print(img)\n"
   ]
  },
  {
   "cell_type": "code",
   "execution_count": 8,
   "id": "a50171aa",
   "metadata": {},
   "outputs": [
    {
     "name": "stdout",
     "output_type": "stream",
     "text": [
      "440\n",
      "455\n"
     ]
    }
   ],
   "source": [
    "m,n =img.shape\n",
    "print(m)\n",
    "print(n)"
   ]
  },
  {
   "cell_type": "code",
   "execution_count": 9,
   "id": "837ddcea",
   "metadata": {},
   "outputs": [
    {
     "name": "stdout",
     "output_type": "stream",
     "text": [
      "[[0.11111111 0.11111111 0.11111111]\n",
      " [0.11111111 0.11111111 0.11111111]\n",
      " [0.11111111 0.11111111 0.11111111]]\n",
      "2\n"
     ]
    }
   ],
   "source": [
    "#Develop Averaging filter(3,3) mask\n",
    "mask=np.ones([3,3],dtype=int)\n",
    "mask= mask / 9\n",
    "print(mask)\n",
    "print(mask.ndim)"
   ]
  },
  {
   "cell_type": "code",
   "execution_count": 11,
   "id": "d1531784",
   "metadata": {},
   "outputs": [
    {
     "name": "stdout",
     "output_type": "stream",
     "text": [
      "[[  0.           0.           0.         ...   0.           0.\n",
      "    0.        ]\n",
      " [  0.         193.55555556 222.         ... 246.11111111 246.66666667\n",
      "    0.        ]\n",
      " [  0.         193.66666667 221.55555556 ... 245.77777778 245.55555556\n",
      "    0.        ]\n",
      " ...\n",
      " [  0.         235.11111111 232.         ... 158.22222222 158.11111111\n",
      "    0.        ]\n",
      " [  0.         235.11111111 232.         ... 158.44444444 157.22222222\n",
      "    0.        ]\n",
      " [  0.           0.           0.         ...   0.           0.\n",
      "    0.        ]]\n"
     ]
    }
   ],
   "source": [
    "img_new = np.zeros([m, n])\n",
    "for i in range(1, m-1):\n",
    "    for j in range(1, n-1):\n",
    "        temp = img[i-1, j-1]*mask[0, 0]+img[i-1, j]*mask[0, 1]+img[i-1, j + 1]*mask[0, 2]+img[i, j-1]*mask[1, 0]+ img[i, j]*mask[1, 1]+img[i, j + 1]*mask[1, 2]+img[i + 1, j-1]*mask[2, 0]+img[i + 1, j]*mask[2, 1]+img[i + 1, j + 1]*mask[2, 2]\n",
    "        img_new[i, j]= temp\n",
    "print(img_new) "
   ]
  },
  {
   "cell_type": "code",
   "execution_count": 6,
   "id": "3ab503e2",
   "metadata": {},
   "outputs": [
    {
     "name": "stdout",
     "output_type": "stream",
     "text": [
      "[[  0.           0.           0.         ...   0.           0.\n",
      "    0.        ]\n",
      " [  0.         193.55555556 222.         ... 246.11111111 246.66666667\n",
      "    0.        ]\n",
      " [  0.         193.66666667 221.55555556 ... 245.77777778 245.55555556\n",
      "    0.        ]\n",
      " ...\n",
      " [  0.         235.11111111 232.         ... 158.22222222 158.11111111\n",
      "    0.        ]\n",
      " [  0.         235.11111111 232.         ... 158.44444444 157.22222222\n",
      "    0.        ]\n",
      " [  0.           0.           0.         ...   0.           0.\n",
      "    0.        ]]\n"
     ]
    }
   ],
   "source": [
    "print(img_new)"
   ]
  },
  {
   "cell_type": "code",
   "execution_count": 14,
   "id": "d8de64f3",
   "metadata": {},
   "outputs": [
    {
     "data": {
      "text/plain": [
       "32"
      ]
     },
     "execution_count": 14,
     "metadata": {},
     "output_type": "execute_result"
    }
   ],
   "source": [
    "img_new= img_new.astype(np.uint8)\n",
    "cv2.imwrite( 'LP.png',img_new)\n",
    "cv2.imshow(\"Low pass filtered img\",img_new)\n",
    "cv2.waitKey(0)"
   ]
  },
  {
   "cell_type": "code",
   "execution_count": null,
   "id": "8bd8c1db",
   "metadata": {},
   "outputs": [],
   "source": []
  },
  {
   "cell_type": "code",
   "execution_count": null,
   "id": "5ff3bc3a",
   "metadata": {},
   "outputs": [],
   "source": [
    "#High Pass Filtering"
   ]
  },
  {
   "cell_type": "code",
   "execution_count": null,
   "id": "a8c1d2c8",
   "metadata": {},
   "outputs": [],
   "source": [
    "mask=np.array([[-1/9,-1/9,-1/9],[-1/9,8/9,-1/9],[-1/9,-1/9,-1/9]])"
   ]
  },
  {
   "cell_type": "code",
   "execution_count": null,
   "id": "56b888ed",
   "metadata": {},
   "outputs": [],
   "source": []
  }
 ],
 "metadata": {
  "kernelspec": {
   "display_name": "Python 3 (ipykernel)",
   "language": "python",
   "name": "python3"
  },
  "language_info": {
   "codemirror_mode": {
    "name": "ipython",
    "version": 3
   },
   "file_extension": ".py",
   "mimetype": "text/x-python",
   "name": "python",
   "nbconvert_exporter": "python",
   "pygments_lexer": "ipython3",
   "version": "3.9.12"
  }
 },
 "nbformat": 4,
 "nbformat_minor": 5
}
