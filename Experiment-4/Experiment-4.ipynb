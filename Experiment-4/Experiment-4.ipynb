{
 "cells": [
  {
   "cell_type": "code",
   "execution_count": null,
   "id": "04ff1bd9",
   "metadata": {},
   "outputs": [],
   "source": [
    "#Using OpenCV in python, perform the following operations on an image:"
   ]
  },
  {
   "cell_type": "code",
   "execution_count": 3,
   "id": "2c42b03e",
   "metadata": {},
   "outputs": [],
   "source": [
    "#A)Reading an img & display it.\n",
    "import cv2\n",
    "import cv2\n",
    "Img=cv2.imread('elon.jpg')\n",
    "cv2.imshow(\"Image of  Elon Musk\",Img)\n",
    "cv2.waitKey(0)\n",
    "cv2.destroyAllWindows()"
   ]
  },
  {
   "cell_type": "code",
   "execution_count": null,
   "id": "7ae93d86",
   "metadata": {},
   "outputs": [],
   "source": [
    "#b)Reading a video & display it.\n",
    "import cv2\n",
    "import numpy as np\n",
    " \n",
    "# Create a VideoCapture object and read from input file\n",
    "cap = cv2.VideoCapture('sample.mp4')\n",
    " \n",
    "# Check if camera opened successfully\n",
    "if (cap.isOpened()== False):\n",
    "    print(\"Error opening video file\")\n",
    " \n",
    "# Read until video is completed\n",
    "while(cap.isOpened()):\n",
    "     \n",
    "# Capture frame-by-frame\n",
    "    ret, frame = cap.read()\n",
    "    if ret == True:\n",
    "    # Display the resulting frame\n",
    "        cv2.imshow('Frame', frame)\n",
    "         \n",
    "    # Press Q on keyboard to exit\n",
    "        if cv2.waitKey(25) & 0xFF == ord('q'):\n",
    "            break\n",
    " \n",
    "# Break the loop\n",
    "    else:\n",
    "        break\n",
    " \n",
    "# When everything done, release\n",
    "# the video capture object\n",
    "cap.release()\n",
    " \n",
    "# Closes all the frames\n",
    "cv2.destroyAllWindows()"
   ]
  },
  {
   "cell_type": "code",
   "execution_count": 5,
   "id": "c29a2863",
   "metadata": {},
   "outputs": [
    {
     "data": {
      "text/plain": [
       "-1"
      ]
     },
     "execution_count": 5,
     "metadata": {},
     "output_type": "execute_result"
    }
   ],
   "source": [
    "#C)Converting an img to grayscale\n",
    "Image=cv2.imread(\"elon.jpg\")\n",
    "Image_gray=cv2.cvtColor(Image,cv2.COLOR_BGR2GRAY)\n",
    "cv2.imshow(\"GrayScale_Image of a elon\",Image_gray)\n",
    "cv2.waitKey(0)"
   ]
  },
  {
   "cell_type": "code",
   "execution_count": 6,
   "id": "f8aa7b16",
   "metadata": {},
   "outputs": [
    {
     "data": {
      "text/plain": [
       "-1"
      ]
     },
     "execution_count": 6,
     "metadata": {},
     "output_type": "execute_result"
    }
   ],
   "source": [
    "#Edge Detection\n",
    "Image=cv2.imread(\"elon.jpg\")\n",
    "ImageCanny=cv2.Canny(Image, 150,150)\n",
    "cv2.imshow(\"Canny Image \",ImageCanny)\n",
    "cv2.waitKey(0)"
   ]
  },
  {
   "cell_type": "code",
   "execution_count": 8,
   "id": "424c76e4",
   "metadata": {},
   "outputs": [
    {
     "name": "stdout",
     "output_type": "stream",
     "text": [
      "(807, 564, 3)\n"
     ]
    }
   ],
   "source": [
    "#E)crop an image\n",
    "import cv2\n",
    "import numpy as np\n",
    "img = cv2.imread('elon.jpg')\n",
    "print(img.shape) # Print image shape\n",
    "cv2.imshow(\"original\", img)\n",
    "# Cropping an image\n",
    "cropped_image = img[80:280, 150:330]\n",
    "# Display cropped image\n",
    "cv2.imshow(\"cropped\", cropped_image)\n",
    "# Save the cropped image\n",
    "cv2.imwrite(\"Cropped Image.jpg\", cropped_image)\n",
    "cv2.waitKey(0)\n",
    "cv2.destroyAllWindows()"
   ]
  },
  {
   "cell_type": "code",
   "execution_count": null,
   "id": "4cad42bb",
   "metadata": {},
   "outputs": [],
   "source": []
  }
 ],
 "metadata": {
  "kernelspec": {
   "display_name": "Python 3 (ipykernel)",
   "language": "python",
   "name": "python3"
  },
  "language_info": {
   "codemirror_mode": {
    "name": "ipython",
    "version": 3
   },
   "file_extension": ".py",
   "mimetype": "text/x-python",
   "name": "python",
   "nbconvert_exporter": "python",
   "pygments_lexer": "ipython3",
   "version": "3.9.12"
  }
 },
 "nbformat": 4,
 "nbformat_minor": 5
}
