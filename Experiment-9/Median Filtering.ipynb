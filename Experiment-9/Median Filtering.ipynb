{
 "cells": [
  {
   "cell_type": "code",
   "execution_count": 5,
   "id": "3319b4ff",
   "metadata": {},
   "outputs": [
    {
     "name": "stdout",
     "output_type": "stream",
     "text": [
      "2\n",
      "[[246   0 249 ... 248 248 248]\n",
      " [247 249 250 ... 245 245 245]\n",
      " [  0 250 251 ... 243 243 255]\n",
      " ...\n",
      " [233 233 232 ... 156 150 165]\n",
      " [255 233 232 ... 157 149 165]\n",
      " [233 233 232 ... 161 150 162]]\n"
     ]
    }
   ],
   "source": [
    "import cv2\n",
    "import numpy as np\n",
    "img_noisy1=cv2.imread('ns.png',0)\n",
    "print(img_noisy1.ndim)\n",
    "print(img_noisy1)"
   ]
  },
  {
   "cell_type": "code",
   "execution_count": 6,
   "id": "7bf4610e",
   "metadata": {},
   "outputs": [],
   "source": [
    "m,n =img_noisy1.shape"
   ]
  },
  {
   "cell_type": "code",
   "execution_count": 7,
   "id": "dd80dc6b",
   "metadata": {},
   "outputs": [
    {
     "data": {
      "text/plain": [
       "True"
      ]
     },
     "execution_count": 7,
     "metadata": {},
     "output_type": "execute_result"
    }
   ],
   "source": [
    "# Traverse the image. For every 3X3 area,\n",
    "# find the median of the pixels and\n",
    "# replace the center pixel by the median\n",
    "img_new1 = np.zeros([m, n])\n",
    "\n",
    "for i in range(1, m-1):\n",
    "    for j in range(1, n-1):\n",
    "        temp = [img_noisy1[i-1, j-1],\n",
    "            img_noisy1[i-1, j],\n",
    "            img_noisy1[i-1, j + 1],\n",
    "            img_noisy1[i, j-1],\n",
    "            img_noisy1[i, j],\n",
    "            img_noisy1[i, j + 1],\n",
    "            img_noisy1[i + 1, j-1],\n",
    "            img_noisy1[i + 1, j],\n",
    "            img_noisy1[i + 1, j + 1]]\n",
    "\n",
    "        temp = sorted(temp)\n",
    "        img_new1[i, j]= temp[4]\n",
    "\n",
    "img_new1 = img_new1.astype(np.uint8)\n",
    "cv2.imwrite('new_median_filtered.png', img_new1)\n"
   ]
  },
  {
   "cell_type": "code",
   "execution_count": 9,
   "id": "b777df34",
   "metadata": {},
   "outputs": [
    {
     "data": {
      "text/plain": [
       "-1"
      ]
     },
     "execution_count": 9,
     "metadata": {},
     "output_type": "execute_result"
    }
   ],
   "source": [
    "\n",
    "cv2.imshow(\"Median filtered img\",img_new1)\n",
    "cv2.waitKey(0)\n",
    "img_new1= img_new1.astype(np.uint8)\n",
    "cv2.imwrite( 'MF.png',img_new1)\n",
    "cv2.imshow(\"Median filtered img\",img_new1)\n",
    "cv2.waitKey(0)"
   ]
  },
  {
   "cell_type": "code",
   "execution_count": null,
   "id": "19f7e051",
   "metadata": {},
   "outputs": [],
   "source": []
  },
  {
   "cell_type": "code",
   "execution_count": null,
   "id": "598e5588",
   "metadata": {},
   "outputs": [],
   "source": []
  }
 ],
 "metadata": {
  "kernelspec": {
   "display_name": "Python 3 (ipykernel)",
   "language": "python",
   "name": "python3"
  },
  "language_info": {
   "codemirror_mode": {
    "name": "ipython",
    "version": 3
   },
   "file_extension": ".py",
   "mimetype": "text/x-python",
   "name": "python",
   "nbconvert_exporter": "python",
   "pygments_lexer": "ipython3",
   "version": "3.9.12"
  }
 },
 "nbformat": 4,
 "nbformat_minor": 5
}
